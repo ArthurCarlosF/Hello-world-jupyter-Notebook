{
 "cells": [
  {
   "cell_type": "raw",
   "metadata": {},
   "source": [
    "# TP01 - `Arthur Carlos de Faria`\n",
    "\n",
    "Bem vindo!\n",
    "Neste exercício computacional você utilizará o Jupyter Notebook para utilizar algumas funções preliminares e também para descrever o sistema dinâmico que você utilizará ao longo do semestre.\n",
    "\n",
    "**Instruções:**\n",
    "- Use a versão Python 3.x\n",
    "- Evite sempre usar usar laços `for` e `while`, fazer contas no formato vetorial é sempre mais rápido.\n",
    "- Não apague os comentários que já existem nas células de código. Mas é claro que você pode adicionar outros comentários.\n",
    "\n",
    "**Objetivos**\n",
    "- Iniciar o uso do Jupyter Notebook, usando linguagem Python\n",
    "- Usar funções das principais bibliotecas, como numpy e matplotlib\n",
    "- Aplicar conceitos de aprendizado de máquina em problema de regressão"
   ]
  },
  {
   "cell_type": "markdown",
   "metadata": {},
   "source": [
    "## O Jupyter notebook\n",
    "\n",
    "O Jupyter Notebook é um ambiente interativo de programação em uma página web. Nesse notebook você colocará o código entre os comentários `### SEU CÓDIGO COMEÇA AQUI ###` e `### FIM DO CÓDIGO ###`. Após escrever o código, você pode executar a célula com `Shift+Enter` ou no botão \"Run\" (com símbolo de \"play\") na barra de comandos acima.\n",
    "\n",
    "Em alguns trechos será especificado \"(≈ X linhas de código)\" nos comentários para que você tenha uma ideia sobre o tamanho do código a ser desenvolvido naquele trecho. Lembrando que é só uma estimativa, o seu código pode ficar maior ou menor do que o especificado.\n",
    "\n",
    "**Alguns atalhos úteis *no código*:**\n",
    "- `Ctrl+Enter`: executa a célula e mantém o cursor na mesma célula\n",
    "- `Shift+Enter`: executa a célula e move o cursor para a próxima célula\n",
    "- `Ctrl+/`: comenta a linha de código\n",
    "- `Shift+Tab`: quando o cursor estiver em uma função, mostra um HELP da função\n",
    "\n",
    "**Alguns atalhos úteis *na célula*:**\n",
    "- Cria nova célula `a`: acima, `b`: abaixo da céula selecionada\n",
    "- `d` (2x): deleta célula selecionada\n",
    "- `m`: define célula como texto (Markdown)\n",
    "- `y`: define célula como código (Python)\n",
    "- `l`: mostra numeração das linhas na célula de código\n",
    "- `c`: copiar, `v`: colar, `x`: recortar célula selecionada\n",
    "- `ctrl+shift+p`: mostra busca para todos comandos de célula\n",
    "\n",
    "## Primeiros passos\n",
    "Comece com um `print` de `\"Olá mundo\"` na célula abaixo."
   ]
  },
  {
   "cell_type": "code",
   "execution_count": 11,
   "metadata": {},
   "outputs": [
    {
     "name": "stdout",
     "output_type": "stream",
     "text": [
      "Olá mundo\n"
     ]
    }
   ],
   "source": [
    "### SEU CÓDIGO COMEÇA AQUI ### (≈ 1 linha de código)\n",
    "print(\"Olá mundo\")\n",
    "### FIM DO CÓDIGO ###"
   ]
  },
  {
   "cell_type": "markdown",
   "metadata": {},
   "source": [
    "**Saída esperada**:\n",
    "Olá mundo\n",
    "___"
   ]
  },
  {
   "cell_type": "markdown",
   "metadata": {},
   "source": [
    "A biblioteca NumPy é uma das mais importantes que usaremos. Cálculos matemáticos envolvendo funções, álgebra linear, números aleatórios devem ser procurados nessa biblioteca. Evite usar outras (e.g. math). Para começar, importe a biblioteca `numpy` com o alias `np`, usando o comando:\n",
    "\n",
    "`import numpy as np`\n",
    "\n",
    "Na mesma célula abaixo, teste a função seno `np.sin(x)` com entrada `x=2` (não precisa criar a variável `x`). Note que ao escrever o comando `np.sin(2)` na última linha de código da célula, o retorno da função é ecoado na saída, mostrada logo abaixo da célula. Isso é util às vezes para ver o retorno de uma função sem precisar usar o comando `print`. Se você não quiser que o valor seja ecoado na saída, basta colocar um `;` (ponto e vírgula) após o comando."
   ]
  },
  {
   "cell_type": "code",
   "execution_count": 12,
   "metadata": {},
   "outputs": [
    {
     "data": {
      "text/plain": [
       "0.9092974268256817"
      ]
     },
     "execution_count": 12,
     "metadata": {},
     "output_type": "execute_result"
    }
   ],
   "source": [
    "### SEU CÓDIGO COMEÇA AQUI ### (≈ 2 linhas de código)\n",
    "import numpy as np\n",
    "np.sin(2)\n",
    "### FIM DO CÓDIGO ###"
   ]
  },
  {
   "cell_type": "markdown",
   "metadata": {},
   "source": [
    "**Saída esperada**:\n",
    "0.90929742682568171\n",
    "\n",
    "Na célula abaixo, use as funções abaixo com os respectivos valores apresentados e mostre os resultados na saída. Lembre-se: todas essas funções já estão implementadas no NumPy (https://numpy.org/devdocs/reference/routines.math.html), não é necessário implementá-las manualmente.\n",
    "1. Exponencial (exp): $e^x$, com $x=8$\n",
    "1. Sinal (sign): $\\rm{sign}(x)$, com $x=-inf$\n",
    "1. Tangente hiperbólica: $\\tanh(x)$, com $x=0.2$\n",
    "1. Cosseno: $\\cos(x)$, com $x=1$\n",
    "\n"
   ]
  },
  {
   "cell_type": "code",
   "execution_count": 20,
   "metadata": {},
   "outputs": [
    {
     "name": "stdout",
     "output_type": "stream",
     "text": [
      "2980.9579870417283\n",
      "-1.0\n",
      "0.197375320224904\n",
      "0.5403023058681398\n"
     ]
    }
   ],
   "source": [
    "### SEU CÓDIGO COMEÇA AQUI ### (≈ 4 linhas de código)\n",
    "import numpy as np\n",
    "print(np.exp(8))\n",
    "print(np.sign(-np.inf))\n",
    "print(np.tanh(0.2))\n",
    "print(np.cos(1))\n",
    "### FIM DO CÓDIGO ###"
   ]
  },
  {
   "cell_type": "markdown",
   "metadata": {},
   "source": [
    "**Saída esperada**:\n",
    "\n",
    "`\n",
    "Exponencial (exp):  2980.95798704\n",
    "Sinal (sign):  -1.0\n",
    "Tangente hiperbólica:  0.197375320225\n",
    "Cosseno:  0.540302305868\n",
    "`\n",
    "___"
   ]
  },
  {
   "cell_type": "markdown",
   "metadata": {},
   "source": [
    "## Plotando gráficos\n",
    "Nesta atividade você implementará um sinal senoidal $x(t)$ de fequência $\\omega$ (variável `omega`), representado no tempo \"contínuo\" (`xc`) e no tempo discreto (`xd`). É claro que em linguagem de programação não é possível representar sinais contínuos, pois é impossível termos uma variável com faixa *contínua* de valores de tempo. Mas aqui, faremos a representação de um sinal contínuo por meio de um sinal amostrado com período de amostragem bem curto (alta frquência de amostragem), de modo a termos a impressão que o sinal é realmente contínuo. Então vamos lá.\n",
    "\n",
    "### Sinal \"contínuo\"\n",
    "\n",
    "Primeiro, vamos representar a variável \"tempo contínuo\" como um vetor `t` com muitos pontos (período de amostragem curto).\n",
    "\n",
    "1. importe a biblioteca `matplotlib.pyplot` com alias `plt`, com o comando `import matplotlib.pyplot as plt`\n",
    "1. use o comando `np.linspace(t0, tf, N)` para criar um vetor de tempo no intervalo $t\\in[t_0, t_f]$, com $t_0=0$ e $t_f=7\\pi$. Faça um vetor com 100 amostras `N=200`. *Atenção! Vetores muito grandes podem deixar o processamento mais lento!*\n",
    "1. crie um sinal `xc`, representado por outro vetor, também de tamanho 100, com o seno dos intervalos de tempo apresentados, fazendo simplesmente `np.sin(t)`. O cálculo do seno é feito para cada amostra do vetor `t`.\n",
    "1. Inicie a figura com o comando `plt.figure(figsize=(8, 1.5))`. Note que os valores `8` e `1.5` são respectivamente a largura e a altura da figura.\n",
    "1. mostre o gráfico da função com uma linha contínua. Note que é possível fazer gráficos com diferntes espessuras de linha `lw=2.5`, diferentes cores `c='k'` ('k': preto, 'b': azul, 'r': vermelho, 'g': verde, ...)\n",
    "1. adicione rótulo aos eixos vertical `$x(t)$` e horizontal `$t$ [s]` (note que os cifrões não aparecem no rótulo e só delimitam o início e fim da sintaxe de equações, escritas no formato LaTex).\n",
    "1. adicione o título \"Senóide de tempo contínuo\" na figura\n",
    "\n",
    "Você deverá usar as funções `plt.plot`, `plt.xlabel`, `plt.ylabel` e `plt.title`. O comando `plt.grid(True)` também é útil para adicionar linhas de referência no gráfico. Este tutorial pode ajudar mais: https://www.delftstack.com/pt/tutorial/matplotlib/line-chart/\n",
    "(achou um tutorial melhor? Edite esse texto incluindo o link!)"
   ]
  },
  {
   "cell_type": "code",
   "execution_count": 30,
   "metadata": {},
   "outputs": [
    {
     "data": {
      "text/plain": [
       "[<matplotlib.lines.Line2D at 0x99726a0>]"
      ]
     },
     "execution_count": 30,
     "metadata": {},
     "output_type": "execute_result"
    },
    {
     "data": {
      "image/png": "[encoded data removed]",
      "text/plain": [
       "<Figure size 576x108 with 1 Axes>"
      ]
     },
     "metadata": {
      "needs_background": "light"
     },
     "output_type": "display_data"
    }
   ],
   "source": [
    "### SEU CÓDIGO COMEÇA AQUI ### (≈ 6 linhas de código)\n",
    "import matplotlib.pyplot as plt\n",
    "import numpy as np\n",
    "\n",
    "t0=0                      #tempo inicial\n",
    "tf=7*np.pi                #tempo final\n",
    "N=100                      #amostras\n",
    "\n",
    "t = np.linspace(t0,tf,N)\n",
    "xc = np.sin(t)\n",
    "\n",
    "plt.figure(figsize=(8,1.5))\n",
    "plt.title(\"Senóide de tempo contínuo\")\n",
    "plt.plot(t,xc)\n",
    "### FIM DO CÓDIGO ###"
   ]
  },
  {
   "cell_type": "markdown",
   "metadata": {},
   "source": [
    "**Saída esperada**\n",
    "![texto alternativo](TP01_xc.png)\n",
    "\n",
    "### Sinal discreto\n",
    "\n",
    "Outra alternativa para criar vetores de tempo é usando o `np.arange(t0, tf, dt)`, com duas diferenças principais: i) no `np.arange` você especifica o intervalo de amostragem `dt` ao invés do número de pontos `N`, ii) o vetor produzido não inclui o tempo final `tf` especificado. Vamos usar esse comando agora.\n",
    "\n",
    "1. crie um vetor de amostras `n`, usando o comando `np.arange`, com intervalo de amostragem de `dt=0.5` no intervalo $n\\in[0, 7\\pi)$\n",
    "1. crie um sinal amostrado `xd`, a partir do seno de `n`, fazendo `np.sin(n)`. Note que `xd` tem menos elementos do que `xc`, pois o intervalo de amostragem do vetor de amostras `n` é maior que `t`.\n",
    "1. Inicie a figura com o comando `plt.figure(figsize=(8, 1.5))`.\n",
    "1. mostre o gráfico do sinal em tempo discreto usando o comando `plt.stem`. *Note que se você utilizar apenas `plt.stem(xd)` o eixo horizontal representará as \"amostras\" apenas, com números inteiros apenas. Execute o comando `plt.stem(n, xd)` para que o eixo horizontal seja escalado de acordo com o intervalo de tempo (em segundos) correspondente!*\n",
    "1. adicione rótulo aos eixos vertical `$x_d[n]$` e horizontal `$nT$ [s]`. *Atenção para o eixo horizontal, que não será representado em amostras $n=0, 1, 2, 3, \\dots$, mas sim em intervalos de amostragem $nT=0, 0.5, 1.0, 1.5, \\dots$* (nesta frase estou usando o ponto como separador decimal)\n",
    "1. adicione o título \"Sinal senoidal de tempo discreto\" na figura\n",
    "\n",
    "Você deverá usar as funções `plt.stem`, `plt.xlabel`, `plt.ylabel` e `plt.title`."
   ]
  },
  {
   "cell_type": "code",
   "execution_count": 55,
   "metadata": {},
   "outputs": [
    {
     "data": {
      "application/vnd.jupyter.widget-view+json": {
       "model_id": "b879beda57a049478a1009702ba0bb9b",
       "version_major": 2,
       "version_minor": 0
      },
      "text/plain": [
       "Canvas(toolbar=Toolbar(toolitems=[('Home', 'Reset original view', 'home', 'home'), ('Back', 'Back to previous …"
      ]
     },
     "metadata": {},
     "output_type": "display_data"
    },
    {
     "name": "stderr",
     "output_type": "stream",
     "text": [
      "<ipython-input-55-683da5153cb5>:16: UserWarning: In Matplotlib 3.3 individual lines on a stem plot will be added as a LineCollection instead of individual lines. This significantly improves the performance of a stem plot. To remove this warning and switch to the new behaviour, set the \"use_line_collection\" keyword argument to True.\n",
      "  plt.stem(t,xc)\n"
     ]
    },
    {
     "data": {
      "text/plain": [
       "<StemContainer object of 3 artists>"
      ]
     },
     "execution_count": 55,
     "metadata": {},
     "output_type": "execute_result"
    }
   ],
   "source": [
    "### SEU CÓDIGO COMEÇA AQUI ### (≈ 6 linhas de código)\n",
    "import matplotlib.pyplot as plt\n",
    "import numpy as np\n",
    "\n",
    "t0=0                      #tempo inicial\n",
    "tf=7*np.pi                #tempo final\n",
    "dt=0.5                      #amostras\n",
    "\n",
    "t = np.arange(t0,tf,dt)\n",
    "xc = np.sin(t)\n",
    "\n",
    "plt.figure(figsize=(8,1.5))\n",
    "plt.title(\"Sinal senoidal de tempo discreto\")\n",
    "plt.ylabel(\"$x_d[n]$\")\n",
    "plt.xlabel(\"$nT$ [s]\")\n",
    "plt.stem(t,xc)\n",
    "### FIM DO CÓDIGO ###"
   ]
  },
  {
   "cell_type": "markdown",
   "metadata": {},
   "source": [
    "**Saída esperada**\n",
    "<img src=\"files/TP01_xd.png\">\n",
    "\n",
    "### Figuras interativas\n",
    "\n",
    "Você pode adicionar interatividade nas figuras por meio do `ipympl`. Veja instruções na página https://github.com/matplotlib/ipympl. Será necessário instalar o pacote:\n",
    "- Abra o \"Anaconda Prompt\"\n",
    "- Digite o comando `conda install -c conda-forge ipympl`\n",
    "- Confirme a instalação e aguarde finalizar com sucesso\n",
    "- Reinicie o Jupyter Notebook (caso esteja aberto)\n",
    "- Para ver as figuras interativas você deve executar o comando mágico `%matplotlib widget`\n",
    "- Caso deseje ver as figuras estáticas execute `%matplotlib inline`\n",
    "\n",
    "Plote abaixo o sinal $x(t)$ de forma interativa!"
   ]
  },
  {
   "cell_type": "code",
   "execution_count": 54,
   "metadata": {},
   "outputs": [
    {
     "data": {
      "application/vnd.jupyter.widget-view+json": {
       "model_id": "eaea723af28e42c880caf2b91108583c",
       "version_major": 2,
       "version_minor": 0
      },
      "text/plain": [
       "Canvas(toolbar=Toolbar(toolitems=[('Home', 'Reset original view', 'home', 'home'), ('Back', 'Back to previous …"
      ]
     },
     "metadata": {},
     "output_type": "display_data"
    },
    {
     "data": {
      "text/plain": [
       "[<matplotlib.lines.Line2D at 0xb0f5a18>]"
      ]
     },
     "execution_count": 54,
     "metadata": {},
     "output_type": "execute_result"
    }
   ],
   "source": [
    "### SEU CÓDIGO COMEÇA AQUI ### (≈ 6 linhas de código)\n",
    "%matplotlib widget\n",
    "import matplotlib.pyplot as plt\n",
    "import numpy as np\n",
    "\n",
    "t0=0                      #tempo inicial\n",
    "tf=7*np.pi                #tempo final\n",
    "N=100                      #amostras\n",
    "\n",
    "t = np.linspace(t0,tf,N)\n",
    "xc = np.sin(t)\n",
    "\n",
    "plt.figure(figsize=(8,1.5))\n",
    "plt.title(\"Senóide de tempo contínuo\")\n",
    "\n",
    "plt.plot(t,xc)\n",
    "\n",
    "\n",
    "### FIM DO CÓDIGO ###"
   ]
  },
  {
   "cell_type": "markdown",
   "metadata": {},
   "source": [
    "**Saída esperada**\n",
    "\n",
    "*Mesma imagem de tempo contínuo, mas interativa, permitindo alterar o tamanho, zoom e movimentação no gráfico.*\n",
    "___"
   ]
  },
  {
   "cell_type": "markdown",
   "metadata": {},
   "source": [
    "## Criando a Função Degrau\n",
    "\n",
    "Crie abaixo uma função que, a partir de um vetor de \"tempo\" (como os vetores construidos anteriormente), retorne um vetor, de mesma dimensão, com a função degrau unitário. A função deve ter os seguintes parâmetros:\n",
    "1. Nome da função:\n",
    "  + `degrau()`\n",
    "1. Entrada:\n",
    "  + `t`: vetor de amostras, com dimensão qualquer (para saber a dimensão de um vetor use o comando `np.size` ou `len`)\n",
    "1. Saída:\n",
    "  + `u`: vetor com os respectivos valores $u(t^{(i)})$ para cada $i$-ésima amostra do vetor `t`\n",
    "\n",
    "Use o degrau unitário $u(t)$ como\n",
    "$$u(t) = 1, \\forall t >=0 \\\\ u(t) = 0, \\forall t <0$$\n",
    "\n",
    "Abaixo você deve fazer o seguinte:\n",
    "1. Crie a função `degrau()` conforme especificações\n",
    "1. Use a função criada `degrau()` para gerar um sinal de degrau na variável `u` no intervalo entre $t\\in[-5,10]$, com 200 amostras.\n",
    "2. Crie um outro sinal, na variável `ur`, em que $u_r(t)=u(t)+e(t)$, sendo $e(t)$ um ruído aleatório, gaussiano, com média nula e desvio padrão $\\sigma=0.2$.\n",
    "1. Mostre num único gráfico o sinal $u(t)$, na cor preta, tracejado, com espessura de linha `2`, e o sinal $u_r(t)$, em linha contínua, na cor vermelha, com espessura de linha `0.5`\n",
    "1. Adicione legenda no gráfico, usando o comando `plt.legend`\n",
    "1. **Sempre coloque rótulos nos eixos do gráfico!**\n",
    "\n",
    "Para contruir o sinal aleatório $e(t)$ use o comando `np.random.normal(mu, sig, N)`, em que `mu` é a média, `sig` o desvio padrão e `N` o número de elementos do vetor. Mais informações em https://numpy.org/devdocs/reference/random/generated/numpy.random.normal.html#numpy.random.normal"
   ]
  },
  {
   "cell_type": "code",
   "execution_count": 67,
   "metadata": {
    "scrolled": true
   },
   "outputs": [
    {
     "data": {
      "application/vnd.jupyter.widget-view+json": {
       "model_id": "193a1972388a48339757ffdb4413505f",
       "version_major": 2,
       "version_minor": 0
      },
      "text/plain": [
       "Canvas(toolbar=Toolbar(toolitems=[('Home', 'Reset original view', 'home', 'home'), ('Back', 'Back to previous …"
      ]
     },
     "metadata": {},
     "output_type": "display_data"
    },
    {
     "name": "stdout",
     "output_type": "stream",
     "text": [
      "[ 0.32529839  0.30668661  0.20153107  0.12565475 -0.00432036 -0.21506397\n",
      "  0.02049576  0.06531843  0.42279548 -0.09900921 -0.05315726  0.07773682\n",
      "  0.0711235  -0.16848435 -0.04934898 -0.33216391 -0.03341356 -0.26174032\n",
      "  0.19247731  0.45312711 -0.04497377  0.13879898 -0.21290461  0.08965423\n",
      " -0.50448644  0.09878453 -0.24747851 -0.05620938 -0.17928059  0.07970911\n",
      " -0.15015731  0.06381828 -0.0618437   0.26957002  0.51019383 -0.0514739\n",
      " -0.21802571 -0.17918029 -0.00915791  0.24755403 -0.05562211  0.25778354\n",
      " -0.33533886  0.06763488 -0.03315511  0.1606373   0.11469391  0.06227028\n",
      "  0.18212349  0.21753418  0.21602323 -0.10743813 -0.30243118  0.49524166\n",
      "  0.17294156 -0.0297621   0.07528374 -0.3384493   0.26467576 -0.33522894\n",
      "  0.12169958  0.03798352  0.09568127  0.29889885 -0.18297796 -0.37439936\n",
      " -0.37680254  0.73025009  1.5821624   1.1825825   0.80292236  0.87679435\n",
      "  1.33482604  0.81279408  1.02541992  1.19944071  1.2334183   0.7395172\n",
      "  1.15167949  0.94566152  1.11366594  1.23575795  0.83895395  0.62422944\n",
      "  1.00814063  1.24506764  0.57985159  1.10421306  0.88439936  0.84381154\n",
      "  0.71752688  0.55553793  0.87417815  1.14976507  0.96364169  1.15278606\n",
      "  1.09300816  1.13953144  0.7536537   1.04967348  1.24515322  1.05347079\n",
      "  0.45497314  1.19931981  1.23645416  1.04037329  0.81630262  0.91589575\n",
      "  0.93605118  0.69142505  0.98257084  0.57934345  1.07126196  1.30875679\n",
      "  0.69708167  1.14325948  0.89663424  0.93299531  0.93250184  1.1719756\n",
      "  1.1366868   1.12939838  0.85446331  0.91552028  0.66222193  0.88533885\n",
      "  0.94152207  1.00200326  0.71929912  0.8093252   1.21728662  1.1273162\n",
      "  0.55504543  0.78749622  1.14175732  0.74765996  1.14883097  1.05692842\n",
      "  1.10350757  0.95624877  0.93673314  0.83816439  0.75179571  0.97515204\n",
      "  1.017365    1.32937599  0.95698827  0.9105189   0.94990003  1.15998918\n",
      "  0.81376967  0.72002884  0.82815439  1.06660685  1.26529773  1.04310819\n",
      "  0.74518719  1.09626027  0.90624713  1.06411429  0.98719031  1.07274561\n",
      "  0.97537807  0.95963647  1.25939861  0.96453071  1.03401423  1.07914978\n",
      "  0.87469405  0.75466945  0.99831095  0.8782139   1.13772187  0.96291457\n",
      "  1.07453666  1.1299248   0.89422595  0.48619431  1.20085592  1.28822265\n",
      "  1.03539811  0.78650562  1.36320526  1.25781898  0.63409427  0.62467296\n",
      "  0.90080316  1.09234543  0.83069696  1.07637562  1.0459247   0.87142622\n",
      "  1.38744482  1.11713355  0.66150377  1.55265587  1.05621515  1.19048341\n",
      "  1.14652745  0.38089204]\n"
     ]
    }
   ],
   "source": [
    "### SEU CÓDIGO COMEÇA AQUI ### (≈ 18 linhas de código)\n",
    "import numpy as np\n",
    "import matplotlib.pyplot as plt\n",
    "\n",
    "\n",
    "def degrau(t):\n",
    "    \n",
    "    u=np.zeros(len(t))\n",
    "    \n",
    "    Tamanho= len(t)\n",
    "    for i in range (0,Tamanho-1):\n",
    "        if t[i]>=0:\n",
    "            u[i]=1.\n",
    "        \n",
    "        \n",
    "        \n",
    "    return (u)\n",
    "\n",
    "\n",
    "\n",
    "t0=-5\n",
    "tf=10\n",
    "N=200\n",
    "\n",
    "t=np.linspace(t0,tf,N)\n",
    "u=degrau(t)\n",
    "\n",
    "e=np.random.normal(0,0.2,len(t))\n",
    "\n",
    "ur=e+u\n",
    "\n",
    "plt.figure(figsize=(8,1.5))\n",
    "plt.title(\"Senóide de tempo contínuo\")\n",
    "plt.plot(t,u,\"k--\",linewidth=2)\n",
    "\n",
    "plt.show()\n",
    "print(ur)\n",
    "\n",
    "\n",
    "\n",
    "\n",
    "\n",
    "\n",
    "\n",
    "### FIM DO CÓDIGO ###"
   ]
  },
  {
   "cell_type": "markdown",
   "metadata": {},
   "source": [
    "**Saída esperada**\n",
    "\n",
    "*Gráfico da função degrau junto com um degrau com ruído.*\n",
    "___\n",
    "\n",
    "## Usando a função criada\n",
    "\n",
    "Use a função criada para produzir um sinal de \"pulso\" $p(t)$, em que:\n",
    "\n",
    "$p(t) = 1, \\forall -1 < t <= 1 \\\\ p(t) = 0, \\mathrm{c.c.}$\n",
    "\n",
    "*Lembre-se: é possível produzir um sinal \"pulso\" a partir de sinais do tipo degrau*. Faça um gráfico do sinal pulso $p(t)$ no intervalo $t\\in[-3; 3]$."
   ]
  },
  {
   "cell_type": "code",
   "execution_count": 75,
   "metadata": {},
   "outputs": [
    {
     "data": {
      "application/vnd.jupyter.widget-view+json": {
       "model_id": "a58dfae9086642948f4eb761d42f53be",
       "version_major": 2,
       "version_minor": 0
      },
      "text/plain": [
       "Canvas(toolbar=Toolbar(toolitems=[('Home', 'Reset original view', 'home', 'home'), ('Back', 'Back to previous …"
      ]
     },
     "metadata": {},
     "output_type": "display_data"
    }
   ],
   "source": [
    "### SEU CÓDIGO COMEÇA AQUI #\n",
    "import numpy as np\n",
    "import matplotlib.pyplot as plt\n",
    "\n",
    "\n",
    "def degrau(t, k):\n",
    "    \n",
    "    u=np.zeros(len(t))\n",
    "    \n",
    "    Tamanho= len(t)\n",
    "    for i in range (0,Tamanho-1):\n",
    "        if t[i]>=k:\n",
    "            u[i]=1.\n",
    "        \n",
    "        \n",
    "        \n",
    "    return (u)\n",
    "\n",
    "\n",
    "t=np.linspace(-6,6,200)\n",
    "e=np.random.normal(0,0.2,len(t))\n",
    "u=degrau(t,3)-degrau(t,-3)\n",
    "ur=u +e\n",
    "\n",
    "plt.figure(figsize=(8,1.5))\n",
    "plt.plot(t,u,\"k--\",linewidth=1)\n",
    "plt.show()\n",
    "\n",
    "\n",
    "### FIM DO CÓDIGO ###"
   ]
  },
  {
   "cell_type": "markdown",
   "metadata": {},
   "source": [
    "**Saída esperada**\n",
    "\n",
    "*Gráfico da função pulso com dimensões apropriadas, rótulo nos eixos e título na imagem.*\n",
    "___\n",
    "Fim (ufa!)"
   ]
  },
  {
   "cell_type": "code",
   "execution_count": null,
   "metadata": {},
   "outputs": [],
   "source": []
  },
  {
   "cell_type": "code",
   "execution_count": null,
   "metadata": {},
   "outputs": [],
   "source": []
  }
 ],
 "metadata": {
  "kernelspec": {
   "display_name": "Python 3",
   "language": "python",
   "name": "python3"
  },
  "language_info": {
   "codemirror_mode": {
    "name": "ipython",
    "version": 3
   },
   "file_extension": ".py",
   "mimetype": "text/x-python",
   "name": "python",
   "nbconvert_exporter": "python",
   "pygments_lexer": "ipython3",
   "version": "3.8.3"
  },
  "toc": {
   "base_numbering": 1,
   "nav_menu": {
    "height": "228px",
    "width": "370px"
   },
   "number_sections": true,
   "sideBar": true,
   "skip_h1_title": false,
   "title_cell": "Table of Contents",
   "title_sidebar": "Contents",
   "toc_cell": false,
   "toc_position": {},
   "toc_section_display": true,
   "toc_window_display": false
  }
 },
 "nbformat": 4,
 "nbformat_minor": 2
}
